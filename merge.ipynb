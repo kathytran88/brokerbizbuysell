{
 "cells": [
  {
   "cell_type": "code",
   "execution_count": 1,
   "metadata": {},
   "outputs": [],
   "source": [
    "import pandas as pd \n",
    "import glob"
   ]
  },
  {
   "cell_type": "code",
   "execution_count": 2,
   "metadata": {},
   "outputs": [
    {
     "data": {
      "text/html": [
       "<div>\n",
       "<style scoped>\n",
       "    .dataframe tbody tr th:only-of-type {\n",
       "        vertical-align: middle;\n",
       "    }\n",
       "\n",
       "    .dataframe tbody tr th {\n",
       "        vertical-align: top;\n",
       "    }\n",
       "\n",
       "    .dataframe thead th {\n",
       "        text-align: right;\n",
       "    }\n",
       "</style>\n",
       "<table border=\"1\" class=\"dataframe\">\n",
       "  <thead>\n",
       "    <tr style=\"text-align: right;\">\n",
       "      <th></th>\n",
       "      <th>Unnamed: 0</th>\n",
       "      <th>name</th>\n",
       "      <th>phone</th>\n",
       "      <th>company</th>\n",
       "      <th>state</th>\n",
       "      <th>link</th>\n",
       "    </tr>\n",
       "  </thead>\n",
       "  <tbody>\n",
       "    <tr>\n",
       "      <th>0</th>\n",
       "      <td>0</td>\n",
       "      <td>Mario Manetta</td>\n",
       "      <td>(727) 239-6102</td>\n",
       "      <td>Tampa Bay Business Group</td>\n",
       "      <td>St. Petersburg,Florida</td>\n",
       "      <td>https://www.bizbuysell.com/business-broker/mar...</td>\n",
       "    </tr>\n",
       "    <tr>\n",
       "      <th>1</th>\n",
       "      <td>1</td>\n",
       "      <td>Dan Soronen</td>\n",
       "      <td>(727) 580-9937</td>\n",
       "      <td>Main Street &amp; Main</td>\n",
       "      <td>Saint Petersburg,Florida</td>\n",
       "      <td>https://www.bizbuysell.com/business-broker/dan...</td>\n",
       "    </tr>\n",
       "    <tr>\n",
       "      <th>2</th>\n",
       "      <td>2</td>\n",
       "      <td>Gregg Potter</td>\n",
       "      <td>(727) 656-3331</td>\n",
       "      <td>Legacy Venture Group &amp; BuyBIzUSA</td>\n",
       "      <td>Brandon,Florida</td>\n",
       "      <td>https://www.bizbuysell.com/business-broker/gre...</td>\n",
       "    </tr>\n",
       "    <tr>\n",
       "      <th>3</th>\n",
       "      <td>3</td>\n",
       "      <td>Jary Jackson</td>\n",
       "      <td>(910) 703-0437</td>\n",
       "      <td>Florida Business Exchange, Inc.</td>\n",
       "      <td>Volusia County, FL</td>\n",
       "      <td>https://www.bizbuysell.com/business-broker/jar...</td>\n",
       "    </tr>\n",
       "    <tr>\n",
       "      <th>4</th>\n",
       "      <td>4</td>\n",
       "      <td>Maria Cayuela</td>\n",
       "      <td>(754) 707-4881</td>\n",
       "      <td>Withal Realty</td>\n",
       "      <td>Broward County, FL</td>\n",
       "      <td>https://www.bizbuysell.com/business-broker/mar...</td>\n",
       "    </tr>\n",
       "  </tbody>\n",
       "</table>\n",
       "</div>"
      ],
      "text/plain": [
       "   Unnamed: 0           name           phone  \\\n",
       "0           0  Mario Manetta  (727) 239-6102   \n",
       "1           1    Dan Soronen  (727) 580-9937   \n",
       "2           2   Gregg Potter  (727) 656-3331   \n",
       "3           3   Jary Jackson  (910) 703-0437   \n",
       "4           4  Maria Cayuela  (754) 707-4881   \n",
       "\n",
       "                            company                     state  \\\n",
       "0          Tampa Bay Business Group    St. Petersburg,Florida   \n",
       "1                Main Street & Main  Saint Petersburg,Florida   \n",
       "2  Legacy Venture Group & BuyBIzUSA           Brandon,Florida   \n",
       "3   Florida Business Exchange, Inc.        Volusia County, FL   \n",
       "4                     Withal Realty        Broward County, FL   \n",
       "\n",
       "                                                link  \n",
       "0  https://www.bizbuysell.com/business-broker/mar...  \n",
       "1  https://www.bizbuysell.com/business-broker/dan...  \n",
       "2  https://www.bizbuysell.com/business-broker/gre...  \n",
       "3  https://www.bizbuysell.com/business-broker/jar...  \n",
       "4  https://www.bizbuysell.com/business-broker/mar...  "
      ]
     },
     "execution_count": 2,
     "metadata": {},
     "output_type": "execute_result"
    }
   ],
   "source": [
    "excel_files = glob.glob('./files/*.xlsx')\n",
    "all_df = []\n",
    "for file in excel_files:\n",
    "    dfx = pd.read_excel(file)\n",
    "    all_df.append(dfx)\n",
    "\n",
    "df  = pd.concat(all_df, ignore_index = True)\n",
    "df.head()"
   ]
  },
  {
   "cell_type": "code",
   "execution_count": 3,
   "metadata": {},
   "outputs": [
    {
     "name": "stdout",
     "output_type": "stream",
     "text": [
      "7227\n"
     ]
    }
   ],
   "source": [
    "print(len(df))"
   ]
  },
  {
   "cell_type": "code",
   "execution_count": 4,
   "metadata": {},
   "outputs": [
    {
     "data": {
      "text/html": [
       "<div>\n",
       "<style scoped>\n",
       "    .dataframe tbody tr th:only-of-type {\n",
       "        vertical-align: middle;\n",
       "    }\n",
       "\n",
       "    .dataframe tbody tr th {\n",
       "        vertical-align: top;\n",
       "    }\n",
       "\n",
       "    .dataframe thead th {\n",
       "        text-align: right;\n",
       "    }\n",
       "</style>\n",
       "<table border=\"1\" class=\"dataframe\">\n",
       "  <thead>\n",
       "    <tr style=\"text-align: right;\">\n",
       "      <th></th>\n",
       "      <th>name</th>\n",
       "      <th>phone</th>\n",
       "      <th>company</th>\n",
       "      <th>state</th>\n",
       "      <th>link</th>\n",
       "    </tr>\n",
       "  </thead>\n",
       "  <tbody>\n",
       "    <tr>\n",
       "      <th>0</th>\n",
       "      <td>Mario Manetta</td>\n",
       "      <td>(727) 239-6102</td>\n",
       "      <td>Tampa Bay Business Group</td>\n",
       "      <td>St. Petersburg,Florida</td>\n",
       "      <td>https://www.bizbuysell.com/business-broker/mar...</td>\n",
       "    </tr>\n",
       "    <tr>\n",
       "      <th>1</th>\n",
       "      <td>Dan Soronen</td>\n",
       "      <td>(727) 580-9937</td>\n",
       "      <td>Main Street &amp; Main</td>\n",
       "      <td>Saint Petersburg,Florida</td>\n",
       "      <td>https://www.bizbuysell.com/business-broker/dan...</td>\n",
       "    </tr>\n",
       "    <tr>\n",
       "      <th>2</th>\n",
       "      <td>Gregg Potter</td>\n",
       "      <td>(727) 656-3331</td>\n",
       "      <td>Legacy Venture Group &amp; BuyBIzUSA</td>\n",
       "      <td>Brandon,Florida</td>\n",
       "      <td>https://www.bizbuysell.com/business-broker/gre...</td>\n",
       "    </tr>\n",
       "    <tr>\n",
       "      <th>3</th>\n",
       "      <td>Jary Jackson</td>\n",
       "      <td>(910) 703-0437</td>\n",
       "      <td>Florida Business Exchange, Inc.</td>\n",
       "      <td>Volusia County, FL</td>\n",
       "      <td>https://www.bizbuysell.com/business-broker/jar...</td>\n",
       "    </tr>\n",
       "    <tr>\n",
       "      <th>4</th>\n",
       "      <td>Maria Cayuela</td>\n",
       "      <td>(754) 707-4881</td>\n",
       "      <td>Withal Realty</td>\n",
       "      <td>Broward County, FL</td>\n",
       "      <td>https://www.bizbuysell.com/business-broker/mar...</td>\n",
       "    </tr>\n",
       "  </tbody>\n",
       "</table>\n",
       "</div>"
      ],
      "text/plain": [
       "            name           phone                           company  \\\n",
       "0  Mario Manetta  (727) 239-6102          Tampa Bay Business Group   \n",
       "1    Dan Soronen  (727) 580-9937                Main Street & Main   \n",
       "2   Gregg Potter  (727) 656-3331  Legacy Venture Group & BuyBIzUSA   \n",
       "3   Jary Jackson  (910) 703-0437   Florida Business Exchange, Inc.   \n",
       "4  Maria Cayuela  (754) 707-4881                     Withal Realty   \n",
       "\n",
       "                      state                                               link  \n",
       "0    St. Petersburg,Florida  https://www.bizbuysell.com/business-broker/mar...  \n",
       "1  Saint Petersburg,Florida  https://www.bizbuysell.com/business-broker/dan...  \n",
       "2           Brandon,Florida  https://www.bizbuysell.com/business-broker/gre...  \n",
       "3        Volusia County, FL  https://www.bizbuysell.com/business-broker/jar...  \n",
       "4        Broward County, FL  https://www.bizbuysell.com/business-broker/mar...  "
      ]
     },
     "execution_count": 4,
     "metadata": {},
     "output_type": "execute_result"
    }
   ],
   "source": [
    "del df['Unnamed: 0']\n",
    "df.head()"
   ]
  },
  {
   "cell_type": "code",
   "execution_count": 5,
   "metadata": {},
   "outputs": [],
   "source": [
    "df.to_excel('bizbuysell.xlsx')"
   ]
  },
  {
   "cell_type": "code",
   "execution_count": 6,
   "metadata": {},
   "outputs": [
    {
     "data": {
      "text/plain": [
       "name       1112\n",
       "phone       474\n",
       "company     449\n",
       "state       443\n",
       "link          0\n",
       "dtype: int64"
      ]
     },
     "execution_count": 6,
     "metadata": {},
     "output_type": "execute_result"
    }
   ],
   "source": [
    "df.isnull().sum()"
   ]
  }
 ],
 "metadata": {
  "kernelspec": {
   "display_name": "Python 3",
   "language": "python",
   "name": "python3"
  },
  "language_info": {
   "codemirror_mode": {
    "name": "ipython",
    "version": 3
   },
   "file_extension": ".py",
   "mimetype": "text/x-python",
   "name": "python",
   "nbconvert_exporter": "python",
   "pygments_lexer": "ipython3",
   "version": "3.12.4"
  }
 },
 "nbformat": 4,
 "nbformat_minor": 2
}

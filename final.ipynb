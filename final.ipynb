{
 "cells": [
  {
   "cell_type": "code",
   "execution_count": 2,
   "metadata": {},
   "outputs": [
    {
     "data": {
      "text/html": [
       "<div>\n",
       "<style scoped>\n",
       "    .dataframe tbody tr th:only-of-type {\n",
       "        vertical-align: middle;\n",
       "    }\n",
       "\n",
       "    .dataframe tbody tr th {\n",
       "        vertical-align: top;\n",
       "    }\n",
       "\n",
       "    .dataframe thead th {\n",
       "        text-align: right;\n",
       "    }\n",
       "</style>\n",
       "<table border=\"1\" class=\"dataframe\">\n",
       "  <thead>\n",
       "    <tr style=\"text-align: right;\">\n",
       "      <th></th>\n",
       "      <th>name</th>\n",
       "      <th>phone</th>\n",
       "      <th>company</th>\n",
       "      <th>state</th>\n",
       "      <th>link</th>\n",
       "    </tr>\n",
       "  </thead>\n",
       "  <tbody>\n",
       "    <tr>\n",
       "      <th>0</th>\n",
       "      <td>A. Bert Risdon, B.C.I.</td>\n",
       "      <td>(407) 797-6300</td>\n",
       "      <td>Florida Business Exchange, Inc.</td>\n",
       "      <td>Daytona Beach,Florida</td>\n",
       "      <td>https://www.bizbuysell.com/business-broker/a-b...</td>\n",
       "    </tr>\n",
       "    <tr>\n",
       "      <th>1</th>\n",
       "      <td>A. John Richwine CCIM</td>\n",
       "      <td>(904) 996-0699</td>\n",
       "      <td>MarketPoint Advisors</td>\n",
       "      <td>Duval County, FL</td>\n",
       "      <td>https://www.bizbuysell.com/business-broker/a-j...</td>\n",
       "    </tr>\n",
       "    <tr>\n",
       "      <th>2</th>\n",
       "      <td>AJ (Alpesh Jayswal)</td>\n",
       "      <td>(630) 544-0611</td>\n",
       "      <td>Transworld Business Advisors of St. Charles</td>\n",
       "      <td>St. Charles,Illinois</td>\n",
       "      <td>https://www.bizbuysell.com/business-broker/aj-...</td>\n",
       "    </tr>\n",
       "    <tr>\n",
       "      <th>3</th>\n",
       "      <td>AJ Ajendla</td>\n",
       "      <td>(424) 253-6352</td>\n",
       "      <td>Link Silicon Valley</td>\n",
       "      <td>Contra Costa County, CA</td>\n",
       "      <td>https://www.bizbuysell.com/business-broker/aj-...</td>\n",
       "    </tr>\n",
       "    <tr>\n",
       "      <th>4</th>\n",
       "      <td>AJ Jafari</td>\n",
       "      <td>(703) 402-9558</td>\n",
       "      <td>Nova Concept INC</td>\n",
       "      <td>Sterling,Virginia</td>\n",
       "      <td>https://www.bizbuysell.com/business-broker/aj-...</td>\n",
       "    </tr>\n",
       "  </tbody>\n",
       "</table>\n",
       "</div>"
      ],
      "text/plain": [
       "                     name           phone  \\\n",
       "0  A. Bert Risdon, B.C.I.  (407) 797-6300   \n",
       "1   A. John Richwine CCIM  (904) 996-0699   \n",
       "2     AJ (Alpesh Jayswal)  (630) 544-0611   \n",
       "3              AJ Ajendla  (424) 253-6352   \n",
       "4               AJ Jafari  (703) 402-9558   \n",
       "\n",
       "                                       company                    state  \\\n",
       "0              Florida Business Exchange, Inc.    Daytona Beach,Florida   \n",
       "1                         MarketPoint Advisors         Duval County, FL   \n",
       "2  Transworld Business Advisors of St. Charles     St. Charles,Illinois   \n",
       "3                          Link Silicon Valley  Contra Costa County, CA   \n",
       "4                             Nova Concept INC        Sterling,Virginia   \n",
       "\n",
       "                                                link  \n",
       "0  https://www.bizbuysell.com/business-broker/a-b...  \n",
       "1  https://www.bizbuysell.com/business-broker/a-j...  \n",
       "2  https://www.bizbuysell.com/business-broker/aj-...  \n",
       "3  https://www.bizbuysell.com/business-broker/aj-...  \n",
       "4  https://www.bizbuysell.com/business-broker/aj-...  "
      ]
     },
     "execution_count": 2,
     "metadata": {},
     "output_type": "execute_result"
    }
   ],
   "source": [
    "import pandas as pd \n",
    "import numpy as np \n",
    "\n",
    "df = pd.read_excel('official3.xlsx')\n",
    "del df['Unnamed: 0']\n",
    "df.head()"
   ]
  },
  {
   "cell_type": "code",
   "execution_count": 3,
   "metadata": {},
   "outputs": [
    {
     "data": {
      "text/plain": [
       "(5132, 5)"
      ]
     },
     "execution_count": 3,
     "metadata": {},
     "output_type": "execute_result"
    }
   ],
   "source": [
    "df.shape"
   ]
  },
  {
   "cell_type": "code",
   "execution_count": 4,
   "metadata": {},
   "outputs": [
    {
     "data": {
      "text/plain": [
       "name       0\n",
       "phone      3\n",
       "company    0\n",
       "state      0\n",
       "link       0\n",
       "dtype: int64"
      ]
     },
     "execution_count": 4,
     "metadata": {},
     "output_type": "execute_result"
    }
   ],
   "source": [
    "df.isnull().sum()"
   ]
  },
  {
   "cell_type": "code",
   "execution_count": 5,
   "metadata": {},
   "outputs": [
    {
     "data": {
      "text/html": [
       "<div>\n",
       "<style scoped>\n",
       "    .dataframe tbody tr th:only-of-type {\n",
       "        vertical-align: middle;\n",
       "    }\n",
       "\n",
       "    .dataframe tbody tr th {\n",
       "        vertical-align: top;\n",
       "    }\n",
       "\n",
       "    .dataframe thead th {\n",
       "        text-align: right;\n",
       "    }\n",
       "</style>\n",
       "<table border=\"1\" class=\"dataframe\">\n",
       "  <thead>\n",
       "    <tr style=\"text-align: right;\">\n",
       "      <th></th>\n",
       "      <th>name</th>\n",
       "      <th>phone</th>\n",
       "      <th>company</th>\n",
       "      <th>state</th>\n",
       "      <th>link</th>\n",
       "    </tr>\n",
       "  </thead>\n",
       "  <tbody>\n",
       "    <tr>\n",
       "      <th>4659</th>\n",
       "      <td>Adrienne Luera</td>\n",
       "      <td>NaN</td>\n",
       "      <td>Success CRE Brokered by eXp Commercial</td>\n",
       "      <td>San Diego County, CA</td>\n",
       "      <td>https://www.bizbuysell.com/business-broker/adr...</td>\n",
       "    </tr>\n",
       "    <tr>\n",
       "      <th>4671</th>\n",
       "      <td>Alvin Papa</td>\n",
       "      <td>NaN</td>\n",
       "      <td>First Choice Business Brokers LA</td>\n",
       "      <td>Los Angeles,California</td>\n",
       "      <td>https://www.bizbuysell.com/business-broker/alv...</td>\n",
       "    </tr>\n",
       "    <tr>\n",
       "      <th>4691</th>\n",
       "      <td>Austin Harrell</td>\n",
       "      <td>NaN</td>\n",
       "      <td>illi Commercial Real Estate</td>\n",
       "      <td>Los Angeles County, CA</td>\n",
       "      <td>https://www.bizbuysell.com/business-broker/aus...</td>\n",
       "    </tr>\n",
       "  </tbody>\n",
       "</table>\n",
       "</div>"
      ],
      "text/plain": [
       "                name phone                                 company  \\\n",
       "4659  Adrienne Luera   NaN  Success CRE Brokered by eXp Commercial   \n",
       "4671      Alvin Papa   NaN        First Choice Business Brokers LA   \n",
       "4691  Austin Harrell   NaN             illi Commercial Real Estate   \n",
       "\n",
       "                       state  \\\n",
       "4659    San Diego County, CA   \n",
       "4671  Los Angeles,California   \n",
       "4691  Los Angeles County, CA   \n",
       "\n",
       "                                                   link  \n",
       "4659  https://www.bizbuysell.com/business-broker/adr...  \n",
       "4671  https://www.bizbuysell.com/business-broker/alv...  \n",
       "4691  https://www.bizbuysell.com/business-broker/aus...  "
      ]
     },
     "metadata": {},
     "output_type": "display_data"
    }
   ],
   "source": [
    "phone_null = df[df['phone'].isnull()]\n",
    "display(phone_null)"
   ]
  },
  {
   "cell_type": "code",
   "execution_count": 6,
   "metadata": {},
   "outputs": [
    {
     "name": "stdout",
     "output_type": "stream",
     "text": [
      "https://www.bizbuysell.com/business-broker/adrienne-luera/success-cre-brokered-by-exp-commercial/40299/\n",
      "https://www.bizbuysell.com/business-broker/alvin-papa/first-choice-business-brokers-la/31979/\n",
      "https://www.bizbuysell.com/business-broker/austin-harrell/illi-commercial-real-estate/30633/\n"
     ]
    }
   ],
   "source": [
    "for a in phone_null['link']:\n",
    "    print(a)"
   ]
  },
  {
   "cell_type": "code",
   "execution_count": 7,
   "metadata": {},
   "outputs": [],
   "source": [
    "df.loc[df['name'] == 'Adrienne Luera', 'phone'] = '(805) 757-9833'\n",
    "df.loc[df['name'] == 'Austin Harrell', 'phone'] = '(818) 514-0547'"
   ]
  },
  {
   "cell_type": "code",
   "execution_count": 9,
   "metadata": {},
   "outputs": [
    {
     "data": {
      "text/plain": [
       "(5131, 5)"
      ]
     },
     "execution_count": 9,
     "metadata": {},
     "output_type": "execute_result"
    }
   ],
   "source": [
    "df = df[df['name'] != 'Alvin Papa']\n",
    "df.shape"
   ]
  },
  {
   "cell_type": "code",
   "execution_count": 10,
   "metadata": {},
   "outputs": [
    {
     "data": {
      "text/plain": [
       "name       0\n",
       "phone      0\n",
       "company    0\n",
       "state      0\n",
       "link       0\n",
       "dtype: int64"
      ]
     },
     "execution_count": 10,
     "metadata": {},
     "output_type": "execute_result"
    }
   ],
   "source": [
    "df.isnull().sum()"
   ]
  },
  {
   "cell_type": "code",
   "execution_count": 11,
   "metadata": {},
   "outputs": [
    {
     "data": {
      "text/plain": [
       "73"
      ]
     },
     "execution_count": 11,
     "metadata": {},
     "output_type": "execute_result"
    }
   ],
   "source": [
    "df.duplicated().sum()"
   ]
  },
  {
   "cell_type": "code",
   "execution_count": 12,
   "metadata": {},
   "outputs": [
    {
     "data": {
      "text/plain": [
       "(5058, 5)"
      ]
     },
     "execution_count": 12,
     "metadata": {},
     "output_type": "execute_result"
    }
   ],
   "source": [
    "df = df.drop_duplicates(keep='first')\n",
    "df.shape"
   ]
  },
  {
   "cell_type": "code",
   "execution_count": 13,
   "metadata": {},
   "outputs": [
    {
     "data": {
      "text/plain": [
       "0"
      ]
     },
     "execution_count": 13,
     "metadata": {},
     "output_type": "execute_result"
    }
   ],
   "source": [
    "df.duplicated().sum()"
   ]
  },
  {
   "cell_type": "code",
   "execution_count": 15,
   "metadata": {},
   "outputs": [],
   "source": [
    "df.to_excel('official.xlsx')"
   ]
  }
 ],
 "metadata": {
  "kernelspec": {
   "display_name": "Python 3",
   "language": "python",
   "name": "python3"
  },
  "language_info": {
   "codemirror_mode": {
    "name": "ipython",
    "version": 3
   },
   "file_extension": ".py",
   "mimetype": "text/x-python",
   "name": "python",
   "nbconvert_exporter": "python",
   "pygments_lexer": "ipython3",
   "version": "3.12.1"
  }
 },
 "nbformat": 4,
 "nbformat_minor": 2
}
